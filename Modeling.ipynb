{
 "cells": [
  {
   "cell_type": "code",
   "execution_count": null,
   "id": "initial_id",
   "metadata": {
    "collapsed": true
   },
   "outputs": [],
   "source": [
    "import pandas as pd\n",
    "import numpy as np\n",
    "from sksurv.datasets import get_x_y\n",
    "from sksurv.ensemble import RandomSurvivalForest\n",
    "import shap\n",
    "import matplotlib.pyplot as plt"
   ]
  },
  {
   "cell_type": "code",
   "outputs": [],
   "source": [
    "train = pd.read_csv(\"comclin_train.csv\")\n",
    "test = pd.read_csv(\"comclin_test.csv\")\n",
    "train = train.iloc[:,1:20]\n",
    "test = test.iloc[:,1:20]\n",
    "X_train,y_train = get_x_y(train,attr_labels=[\"OS\",\"OS.time\"],pos_label=1)\n",
    "X_test,y_test = get_x_y(test,attr_labels=[\"OS\",\"OS.time\"],pos_label=1)"
   ],
   "metadata": {
    "collapsed": false
   },
   "id": "1bcd41b69cf91515"
  },
  {
   "cell_type": "code",
   "outputs": [],
   "source": [
    "model = RandomSurvivalForest(random_state=11,n_estimators=116,max_depth=4,min_samples_split=34,min_samples_leaf=35)\n",
    "model.fit(X_train,y_train)"
   ],
   "metadata": {
    "collapsed": false
   },
   "id": "1dcc8fdefb8561b2"
  },
  {
   "cell_type": "code",
   "outputs": [],
   "source": [
    "train_pre = pd.DataFrame(model.predict(X_train))\n",
    "test_pre = pd.DataFrame(model.predict(X_test))"
   ],
   "metadata": {
    "collapsed": false
   },
   "id": "49859ed56c3851c7"
  },
  {
   "cell_type": "code",
   "outputs": [],
   "source": [
    "train_pre.to_csv(\"comclinpre_train.csv\")\n",
    "test_pre.to_csv(\"comclinpre_test.csv\")"
   ],
   "metadata": {
    "collapsed": false
   },
   "id": "367bfecb4ac7347a"
  },
  {
   "cell_type": "code",
   "outputs": [],
   "source": [
    "explainer = shap.SamplingExplainer(model.predict,X_train)\n",
    "shap_values = explainer.shap_values(X_train)"
   ],
   "metadata": {
    "collapsed": false
   },
   "id": "513ee369ce448713"
  },
  {
   "cell_type": "code",
   "outputs": [],
   "source": [
    "col = ['age','stage','grade','ANAPC4','STX18','ESPL1','CCNE1','TXN','MCM4','CHMP2A','OGT','CSE1L','TPX2','PLK1','USP36','GPX4','DDX27']"
   ],
   "metadata": {
    "collapsed": false
   },
   "id": "74c8b70743a72818"
  },
  {
   "cell_type": "code",
   "outputs": [],
   "source": [
    "plt.figure(dpi=300)\n",
    "shap.summary_plot(shap_values, col,\n",
    "                  plot_type=\"bar\")"
   ],
   "metadata": {
    "collapsed": false
   },
   "id": "50e855a9d39b0ad3"
  },
  {
   "cell_type": "code",
   "outputs": [],
   "source": [
    "plt.figure(dpi=300)\n",
    "shap.summary_plot(shap_values, X_train)"
   ],
   "metadata": {
    "collapsed": false
   },
   "id": "d7a062609e4add17"
  }
 ],
 "metadata": {
  "kernelspec": {
   "display_name": "Python 3",
   "language": "python",
   "name": "python3"
  },
  "language_info": {
   "codemirror_mode": {
    "name": "ipython",
    "version": 2
   },
   "file_extension": ".py",
   "mimetype": "text/x-python",
   "name": "python",
   "nbconvert_exporter": "python",
   "pygments_lexer": "ipython2",
   "version": "2.7.6"
  }
 },
 "nbformat": 4,
 "nbformat_minor": 5
}
