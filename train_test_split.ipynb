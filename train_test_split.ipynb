{
 "cells": [
  {
   "cell_type": "code",
   "execution_count": 4,
   "id": "initial_id",
   "metadata": {
    "collapsed": true,
    "ExecuteTime": {
     "end_time": "2024-01-30T03:54:59.648064700Z",
     "start_time": "2024-01-30T03:54:56.650629500Z"
    }
   },
   "outputs": [],
   "source": [
    "import pandas as pd\n",
    "import numpy as np\n",
    "from sklearn.model_selection import train_test_split"
   ]
  },
  {
   "cell_type": "code",
   "outputs": [],
   "source": [
    "data = pd.read_csv('data_nor.csv')"
   ],
   "metadata": {
    "collapsed": false,
    "ExecuteTime": {
     "end_time": "2024-01-30T03:54:38.810037300Z",
     "start_time": "2024-01-30T03:54:38.780367600Z"
    }
   },
   "id": "79f44e3d44ea4e10",
   "execution_count": 2
  },
  {
   "cell_type": "code",
   "outputs": [
    {
     "data": {
      "text/plain": "           Unnamed: 0  OS  OS.time     ABCB7    ANAPC1    ANAPC2    ANAPC4  \\\n0    TCGA-D1-A1O7-01A   0       32 -0.326665 -0.596261  0.177312  1.376162   \n1    TCGA-AX-A3G8-01A   0       36 -1.229508 -0.900057 -0.873833 -1.429080   \n2    TCGA-D1-A17F-01A   0       39 -2.335034 -1.748769 -1.384497  0.494618   \n3    TCGA-AX-A3G3-01A   0       42  0.375393  0.295044  1.672129 -0.868716   \n4    TCGA-D1-A1NS-01A   0       43 -0.639175 -1.072240  0.048269  0.491746   \n..                ...  ..      ...       ...       ...       ...       ...   \n520  TCGA-AP-A051-01A   0     3948  0.699027  1.640563  0.885923  0.294422   \n521  TCGA-B5-A3F9-01A   0     4155  0.291786  0.343685 -0.474672  2.002425   \n522  TCGA-A5-A0G2-01A   0     4549  0.762528  0.511928 -0.125099 -0.623679   \n523  TCGA-B5-A11F-01A   0     5651  0.728365  0.127966  0.013493  1.159155   \n524  TCGA-B5-A1MR-01A   0     6859 -0.258854  0.033223 -0.585150 -1.063456   \n\n         ARL2      ATL2     AURKA  ...    TOMM40      TPX2      TSR2  \\\n0    0.006694 -0.470249  0.308549  ... -0.265093  0.252707 -0.307490   \n1    0.644735 -1.791433 -0.285863  ...  0.207433 -0.342627  0.079038   \n2   -0.134293 -1.273526 -1.265140  ... -1.471238 -1.474795 -1.151413   \n3    1.458599  0.089090  1.139269  ... -0.266473  0.968767 -0.110164   \n4    0.558402 -0.623403 -0.711725  ... -0.827161 -0.845984 -0.536861   \n..        ...       ...       ...  ...       ...       ...       ...   \n520 -0.461843  0.589362  0.960843  ... -0.173776  0.764074 -0.292650   \n521  0.242147  0.191872 -0.266006  ... -0.137544 -0.201365  0.962927   \n522 -0.076422  1.115486  1.729255  ...  1.362492  1.128463  1.209755   \n523 -0.119468 -0.235314 -0.650456  ...  0.051787 -0.525324 -0.639100   \n524 -0.161672 -0.482942  0.239383  ...  0.009059 -0.169355 -0.653634   \n\n          TTK     TUBG1       TXN    U2SURP   UQCRFS1     USP36    ZBTB11  \n0    0.208620  0.909105  0.742546  0.149520 -0.374340 -0.762227 -0.335343  \n1   -0.495467 -0.362330  1.728204 -0.747179  0.180410 -2.510358 -1.249825  \n2   -1.196416 -0.470173  0.865443 -0.755609 -1.989909 -2.145782 -0.974871  \n3    0.985098 -0.810010  0.412682  0.888103  0.439404  1.010995 -0.685259  \n4   -0.598969  0.265647  0.473800 -0.369205 -0.227378 -0.860920 -0.131930  \n..        ...       ...       ...       ...       ...       ...       ...  \n520  0.905831  1.454790  0.212506  1.097614  0.606096  1.101291  1.382908  \n521 -0.065967 -0.421684  1.228466  0.628369  0.031602 -0.149729  1.012586  \n522  0.782506  0.952599  0.641354  1.019028  0.313814  2.303282  0.975803  \n523 -0.634245  0.494868  0.245246 -0.074881  0.064281  0.318405  0.139115  \n524 -0.475431  0.371525 -1.007363  0.500825 -0.356029  0.486345 -0.095483  \n\n[525 rows x 56 columns]",
      "text/html": "<div>\n<style scoped>\n    .dataframe tbody tr th:only-of-type {\n        vertical-align: middle;\n    }\n\n    .dataframe tbody tr th {\n        vertical-align: top;\n    }\n\n    .dataframe thead th {\n        text-align: right;\n    }\n</style>\n<table border=\"1\" class=\"dataframe\">\n  <thead>\n    <tr style=\"text-align: right;\">\n      <th></th>\n      <th>Unnamed: 0</th>\n      <th>OS</th>\n      <th>OS.time</th>\n      <th>ABCB7</th>\n      <th>ANAPC1</th>\n      <th>ANAPC2</th>\n      <th>ANAPC4</th>\n      <th>ARL2</th>\n      <th>ATL2</th>\n      <th>AURKA</th>\n      <th>...</th>\n      <th>TOMM40</th>\n      <th>TPX2</th>\n      <th>TSR2</th>\n      <th>TTK</th>\n      <th>TUBG1</th>\n      <th>TXN</th>\n      <th>U2SURP</th>\n      <th>UQCRFS1</th>\n      <th>USP36</th>\n      <th>ZBTB11</th>\n    </tr>\n  </thead>\n  <tbody>\n    <tr>\n      <th>0</th>\n      <td>TCGA-D1-A1O7-01A</td>\n      <td>0</td>\n      <td>32</td>\n      <td>-0.326665</td>\n      <td>-0.596261</td>\n      <td>0.177312</td>\n      <td>1.376162</td>\n      <td>0.006694</td>\n      <td>-0.470249</td>\n      <td>0.308549</td>\n      <td>...</td>\n      <td>-0.265093</td>\n      <td>0.252707</td>\n      <td>-0.307490</td>\n      <td>0.208620</td>\n      <td>0.909105</td>\n      <td>0.742546</td>\n      <td>0.149520</td>\n      <td>-0.374340</td>\n      <td>-0.762227</td>\n      <td>-0.335343</td>\n    </tr>\n    <tr>\n      <th>1</th>\n      <td>TCGA-AX-A3G8-01A</td>\n      <td>0</td>\n      <td>36</td>\n      <td>-1.229508</td>\n      <td>-0.900057</td>\n      <td>-0.873833</td>\n      <td>-1.429080</td>\n      <td>0.644735</td>\n      <td>-1.791433</td>\n      <td>-0.285863</td>\n      <td>...</td>\n      <td>0.207433</td>\n      <td>-0.342627</td>\n      <td>0.079038</td>\n      <td>-0.495467</td>\n      <td>-0.362330</td>\n      <td>1.728204</td>\n      <td>-0.747179</td>\n      <td>0.180410</td>\n      <td>-2.510358</td>\n      <td>-1.249825</td>\n    </tr>\n    <tr>\n      <th>2</th>\n      <td>TCGA-D1-A17F-01A</td>\n      <td>0</td>\n      <td>39</td>\n      <td>-2.335034</td>\n      <td>-1.748769</td>\n      <td>-1.384497</td>\n      <td>0.494618</td>\n      <td>-0.134293</td>\n      <td>-1.273526</td>\n      <td>-1.265140</td>\n      <td>...</td>\n      <td>-1.471238</td>\n      <td>-1.474795</td>\n      <td>-1.151413</td>\n      <td>-1.196416</td>\n      <td>-0.470173</td>\n      <td>0.865443</td>\n      <td>-0.755609</td>\n      <td>-1.989909</td>\n      <td>-2.145782</td>\n      <td>-0.974871</td>\n    </tr>\n    <tr>\n      <th>3</th>\n      <td>TCGA-AX-A3G3-01A</td>\n      <td>0</td>\n      <td>42</td>\n      <td>0.375393</td>\n      <td>0.295044</td>\n      <td>1.672129</td>\n      <td>-0.868716</td>\n      <td>1.458599</td>\n      <td>0.089090</td>\n      <td>1.139269</td>\n      <td>...</td>\n      <td>-0.266473</td>\n      <td>0.968767</td>\n      <td>-0.110164</td>\n      <td>0.985098</td>\n      <td>-0.810010</td>\n      <td>0.412682</td>\n      <td>0.888103</td>\n      <td>0.439404</td>\n      <td>1.010995</td>\n      <td>-0.685259</td>\n    </tr>\n    <tr>\n      <th>4</th>\n      <td>TCGA-D1-A1NS-01A</td>\n      <td>0</td>\n      <td>43</td>\n      <td>-0.639175</td>\n      <td>-1.072240</td>\n      <td>0.048269</td>\n      <td>0.491746</td>\n      <td>0.558402</td>\n      <td>-0.623403</td>\n      <td>-0.711725</td>\n      <td>...</td>\n      <td>-0.827161</td>\n      <td>-0.845984</td>\n      <td>-0.536861</td>\n      <td>-0.598969</td>\n      <td>0.265647</td>\n      <td>0.473800</td>\n      <td>-0.369205</td>\n      <td>-0.227378</td>\n      <td>-0.860920</td>\n      <td>-0.131930</td>\n    </tr>\n    <tr>\n      <th>...</th>\n      <td>...</td>\n      <td>...</td>\n      <td>...</td>\n      <td>...</td>\n      <td>...</td>\n      <td>...</td>\n      <td>...</td>\n      <td>...</td>\n      <td>...</td>\n      <td>...</td>\n      <td>...</td>\n      <td>...</td>\n      <td>...</td>\n      <td>...</td>\n      <td>...</td>\n      <td>...</td>\n      <td>...</td>\n      <td>...</td>\n      <td>...</td>\n      <td>...</td>\n      <td>...</td>\n    </tr>\n    <tr>\n      <th>520</th>\n      <td>TCGA-AP-A051-01A</td>\n      <td>0</td>\n      <td>3948</td>\n      <td>0.699027</td>\n      <td>1.640563</td>\n      <td>0.885923</td>\n      <td>0.294422</td>\n      <td>-0.461843</td>\n      <td>0.589362</td>\n      <td>0.960843</td>\n      <td>...</td>\n      <td>-0.173776</td>\n      <td>0.764074</td>\n      <td>-0.292650</td>\n      <td>0.905831</td>\n      <td>1.454790</td>\n      <td>0.212506</td>\n      <td>1.097614</td>\n      <td>0.606096</td>\n      <td>1.101291</td>\n      <td>1.382908</td>\n    </tr>\n    <tr>\n      <th>521</th>\n      <td>TCGA-B5-A3F9-01A</td>\n      <td>0</td>\n      <td>4155</td>\n      <td>0.291786</td>\n      <td>0.343685</td>\n      <td>-0.474672</td>\n      <td>2.002425</td>\n      <td>0.242147</td>\n      <td>0.191872</td>\n      <td>-0.266006</td>\n      <td>...</td>\n      <td>-0.137544</td>\n      <td>-0.201365</td>\n      <td>0.962927</td>\n      <td>-0.065967</td>\n      <td>-0.421684</td>\n      <td>1.228466</td>\n      <td>0.628369</td>\n      <td>0.031602</td>\n      <td>-0.149729</td>\n      <td>1.012586</td>\n    </tr>\n    <tr>\n      <th>522</th>\n      <td>TCGA-A5-A0G2-01A</td>\n      <td>0</td>\n      <td>4549</td>\n      <td>0.762528</td>\n      <td>0.511928</td>\n      <td>-0.125099</td>\n      <td>-0.623679</td>\n      <td>-0.076422</td>\n      <td>1.115486</td>\n      <td>1.729255</td>\n      <td>...</td>\n      <td>1.362492</td>\n      <td>1.128463</td>\n      <td>1.209755</td>\n      <td>0.782506</td>\n      <td>0.952599</td>\n      <td>0.641354</td>\n      <td>1.019028</td>\n      <td>0.313814</td>\n      <td>2.303282</td>\n      <td>0.975803</td>\n    </tr>\n    <tr>\n      <th>523</th>\n      <td>TCGA-B5-A11F-01A</td>\n      <td>0</td>\n      <td>5651</td>\n      <td>0.728365</td>\n      <td>0.127966</td>\n      <td>0.013493</td>\n      <td>1.159155</td>\n      <td>-0.119468</td>\n      <td>-0.235314</td>\n      <td>-0.650456</td>\n      <td>...</td>\n      <td>0.051787</td>\n      <td>-0.525324</td>\n      <td>-0.639100</td>\n      <td>-0.634245</td>\n      <td>0.494868</td>\n      <td>0.245246</td>\n      <td>-0.074881</td>\n      <td>0.064281</td>\n      <td>0.318405</td>\n      <td>0.139115</td>\n    </tr>\n    <tr>\n      <th>524</th>\n      <td>TCGA-B5-A1MR-01A</td>\n      <td>0</td>\n      <td>6859</td>\n      <td>-0.258854</td>\n      <td>0.033223</td>\n      <td>-0.585150</td>\n      <td>-1.063456</td>\n      <td>-0.161672</td>\n      <td>-0.482942</td>\n      <td>0.239383</td>\n      <td>...</td>\n      <td>0.009059</td>\n      <td>-0.169355</td>\n      <td>-0.653634</td>\n      <td>-0.475431</td>\n      <td>0.371525</td>\n      <td>-1.007363</td>\n      <td>0.500825</td>\n      <td>-0.356029</td>\n      <td>0.486345</td>\n      <td>-0.095483</td>\n    </tr>\n  </tbody>\n</table>\n<p>525 rows × 56 columns</p>\n</div>"
     },
     "execution_count": 3,
     "metadata": {},
     "output_type": "execute_result"
    }
   ],
   "source": [
    "data"
   ],
   "metadata": {
    "collapsed": false,
    "ExecuteTime": {
     "end_time": "2024-01-30T03:54:40.226243800Z",
     "start_time": "2024-01-30T03:54:40.166911800Z"
    }
   },
   "id": "951182448a400a96",
   "execution_count": 3
  },
  {
   "cell_type": "code",
   "outputs": [],
   "source": [
    "train,test = train_test_split(data,test_size=0.3,random_state=48)"
   ],
   "metadata": {
    "collapsed": false,
    "ExecuteTime": {
     "end_time": "2024-01-30T04:00:25.276923300Z",
     "start_time": "2024-01-30T04:00:25.253145100Z"
    }
   },
   "id": "e13c9472e46cf0d6",
   "execution_count": 12
  },
  {
   "cell_type": "code",
   "outputs": [],
   "source": [
    "train = pd.DataFrame(train)\n",
    "test = pd.DataFrame(test)"
   ],
   "metadata": {
    "collapsed": false,
    "ExecuteTime": {
     "end_time": "2024-01-30T04:00:25.418610900Z",
     "start_time": "2024-01-30T04:00:25.409660500Z"
    }
   },
   "id": "326cecaf6387cc84",
   "execution_count": 13
  },
  {
   "cell_type": "code",
   "outputs": [],
   "source": [
    "train.to_csv('data_train.csv',index=False)\n",
    "test.to_csv('data_test.csv',index=False)"
   ],
   "metadata": {
    "collapsed": false,
    "ExecuteTime": {
     "end_time": "2024-01-30T04:00:25.633893400Z",
     "start_time": "2024-01-30T04:00:25.571327Z"
    }
   },
   "id": "9c3b78e7182ced64",
   "execution_count": 14
  },
  {
   "cell_type": "code",
   "outputs": [],
   "source": [],
   "metadata": {
    "collapsed": false
   },
   "id": "f8817eb7321ffd37"
  }
 ],
 "metadata": {
  "kernelspec": {
   "display_name": "Python 3",
   "language": "python",
   "name": "python3"
  },
  "language_info": {
   "codemirror_mode": {
    "name": "ipython",
    "version": 2
   },
   "file_extension": ".py",
   "mimetype": "text/x-python",
   "name": "python",
   "nbconvert_exporter": "python",
   "pygments_lexer": "ipython2",
   "version": "2.7.6"
  }
 },
 "nbformat": 4,
 "nbformat_minor": 5
}
